{
 "cells": [
  {
   "cell_type": "markdown",
   "metadata": {
    "collapsed": true,
    "pycharm": {
     "name": "#%% md\n"
    }
   },
   "source": [
    "# Project 3: Robo Cup - Correlated-Q Edition\n",
    "\n",
    "----  \n",
    "\n"
   ]
  },
  {
   "cell_type": "markdown",
   "metadata": {},
   "source": [
    "## Resources\n",
    "\n",
    "The concepts explored in this project are covered by:\n",
    "- Lectures\n",
    "    - Game Theory (all of them)\n",
    "- Readings\n",
    "    - Greenwald-Hall (2003)"
   ]
  },
  {
   "cell_type": "markdown",
   "metadata": {},
   "source": [
    "## Background\n",
    "\n",
    "TODO"
   ]
  },
  {
   "cell_type": "markdown",
   "metadata": {},
   "source": [
    "## Problem\n",
    "\n",
    "For this project, you will be reading “Correlated Q-Learning” by Amy Greenwald and Keith Hall.\n",
    "You are then asked to replicate the results found in Figure 3(parts a-d). You can use any\n",
    "programming language and libraries you choose."
   ]
  },
  {
   "cell_type": "markdown",
   "metadata": {},
   "source": [
    "## Instructions\n",
    "\n",
    "### Procedure\n",
    "1. Read the paper.\n",
    "2. Develop a system to replicate the experiment found in section \"5. Soccer Game\"\n",
    "    - This will include the soccer game environment\n",
    "    - This will include agents capable of Correlated-Q, Foe-Q, Friend-Q and Q-learning\n",
    "3. Run the experiment found in section \"5. Soccer Game\"\n",
    "    - Collect data necessary to reproduce all the graphs in Figure 3\n",
    "4. Create graphs demonstrating\n",
    "    - The Q-value difference for all agents\n",
    "    - Anything else you may think appropriate\n",
    "    \n",
    "### Tips\n",
    "1. Explain algorithms including Problem Formulation (in words or standard form is okay)\n",
    "2. Environment Set up - Including rules of the game and assumptions made. \n",
    "3. Creating the agent - agent behavior under each algorithm.\n",
    "4. Compare and explain differences with the plots.\n",
    "5. Mention pitfalls - may include pitfalls while creating the agents and/or the environment.\n",
    "6. Once again may be helpful to identify effects on hyperparameters for each algorithm. \n"
   ]
  },
  {
   "cell_type": "markdown",
   "metadata": {},
   "source": [
    "#### 0. Imports"
   ]
  },
  {
   "cell_type": "code",
   "execution_count": 1,
   "metadata": {
    "pycharm": {
     "is_executing": true,
     "name": "#%%\n"
    }
   },
   "outputs": [],
   "source": [
    "#1. Install OpenAI Gym + Setup Env\n",
    "import numpy as np\n",
    "import math\n",
    "import matplotlib.pyplot as plt\n",
    "\n",
    "%matplotlib inline\n",
    "\n",
    "%load_ext autoreload\n",
    "%autoreload 2"
   ]
  },
  {
   "cell_type": "markdown",
   "metadata": {
    "pycharm": {
     "name": "#%% md\n"
    }
   },
   "source": [
    "## Step 0: Soccer Env Setup"
   ]
  },
  {
   "cell_type": "code",
   "execution_count": 2,
   "metadata": {
    "pycharm": {
     "is_executing": true,
     "name": "#%%\n"
    }
   },
   "outputs": [],
   "source": [
    "import sys\n",
    "sys.path.insert(0, '/Users/cesleemontgomery/masters/cs7642/projects/7642Fall2019cmontgomery38/project3')\n",
    "from soccer import SoccerEnv"
   ]
  },
  {
   "cell_type": "code",
   "execution_count": 3,
   "metadata": {
    "pycharm": {
     "is_executing": true
    }
   },
   "outputs": [],
   "source": [
    "env = SoccerEnv()"
   ]
  },
  {
   "cell_type": "code",
   "execution_count": 4,
   "metadata": {
    "pycharm": {
     "is_executing": true
    }
   },
   "outputs": [],
   "source": [
    "# env.render()\n",
    "# action = env.encode_action(SoccerEnv.Action.Stick, SoccerEnv.Action.Stick)\n",
    "# env.step(action)\n",
    "# env.render()"
   ]
  },
  {
   "cell_type": "markdown",
   "metadata": {
    "pycharm": {
     "name": "#%% md\n"
    }
   },
   "source": [
    "## Step 1: Agent Implementation\n",
    "----\n",
    "\n",
    "\n",
    "## Agent 1: Q learning "
   ]
  },
  {
   "cell_type": "markdown",
   "metadata": {},
   "source": [
    "### Step 1: Set Hyperparameters"
   ]
  },
  {
   "cell_type": "code",
   "execution_count": 8,
   "metadata": {
    "pycharm": {
     "is_executing": true,
     "name": "#%%\n"
    }
   },
   "outputs": [],
   "source": [
    "n_episodes_MAX = 10*10**5\n",
    "steps_MAX = 100\n",
    "verbose = False\n",
    "alpha_decay = .9999985"
   ]
  },
  {
   "cell_type": "markdown",
   "metadata": {},
   "source": [
    "### Step 2: Instantiate Q-Learning Agent\n",
    "\n",
    "The Q-Learner sees all states, but only makes optimal decisions over own actions so we pass it:\n",
    "\n",
    "`num_states = env.observation_space.n`   \n",
    "`num_actions = int(math.sqrt(env.action_space.n))`  #personal actions"
   ]
  },
  {
   "cell_type": "code",
   "execution_count": 9,
   "metadata": {},
   "outputs": [],
   "source": [
    "num_states = env.observation_space.n\n",
    "num_actions = int(math.sqrt(env.action_space.n)) #individual player action space is 5, joint action space is 25\n",
    "\n",
    "#Instantiate Q-Learner\n",
    "from QLearner import QLearningAgent\n",
    "Q_agent = QLearningAgent(state_size=num_states, \n",
    "                       action_size=num_actions,\n",
    "                      learning_rate_decay=alpha_decay)\n",
    "\n",
    "# Ref state s, action 'S'\n",
    "ref_state = SoccerEnv.encode_state(0, 2, 0, 1, 0)\n",
    "ref_P1_action = int(SoccerEnv.Action.S)\n",
    "\n",
    "# Q errors for plotting\n",
    "Q_Learner_P1_Q_errors = []\n",
    "\n",
    "for i_episode in range(n_episodes_MAX):\n",
    "    state = env.reset()\n",
    "\n",
    "    P1_Q_ref = Q_agent.Q[ref_state, ref_P1_action]\n",
    "\n",
    "    for t in range(steps_MAX):\n",
    "        P1_action = Q_agent.sample_policy(state)\n",
    "        P2_action = np.random.randint(num_actions)\n",
    "\n",
    "        joint_action = env.encode_action(P1_action, P2_action)\n",
    "\n",
    "        # Take action A, observe R, S'\n",
    "        state_new, reward, done, info = env.step(joint_action)\n",
    "\n",
    "        Q_agent.learn(reward, state, state_new, P1_action)\n",
    "\n",
    "        state = state_new\n",
    "\n",
    "        if done:\n",
    "            if verbose:\n",
    "                print(\"Episode finished after {} timesteps\".format(t + 1))\n",
    "            break\n",
    "\n",
    "    # calc error at end of episode update\n",
    "    Q_Learner_P1_Q_errors.append(np.abs(Q_agent.Q[ref_state, ref_P1_action] - P1_Q_ref))\n",
    "\n",
    "    np.save('./models/Q_Learner', Q_agent.Q)\n",
    "    env.close()"
   ]
  },
  {
   "cell_type": "code",
   "execution_count": 10,
   "metadata": {},
   "outputs": [
    {
     "data": {
      "image/png": "[encoded data removed]",
      "text/plain": [
       "<Figure size 720x576 with 1 Axes>"
      ]
     },
     "metadata": {
      "needs_background": "light"
     },
     "output_type": "display_data"
    }
   ],
   "source": [
    "# import matplotlib.ticker as ticker\n",
    "\n",
    "# # plot the scores\n",
    "# fig, ax = plt.subplots(1, 1, figsize=(10, 8))\n",
    "# plt.title('Q Learner')\n",
    "\n",
    "# plt.plot(np.arange(len(Q_Learner_P1_Q_errors)), Q_Learner_P1_Q_errors);\n",
    "# ax.xaxis.set_major_locator(ticker.LinearLocator(11))\n",
    "\n",
    "# labels = range(0, int(n_episodes_MAX / 10**5)+1)\n",
    "# ax.set_xticklabels(labels)\n",
    "\n",
    "# plt.xlim( (0, n_episodes_MAX) )\n",
    "# plt.ylim( (0, 0.5) )\n",
    "# plt.ylabel('Q-value Difference')\n",
    "# plt.xlabel('Simulation Iteration (x10^5)')\n",
    "# fig.savefig('./figures/Q_Learner.png', dpi=fig.dpi)"
   ]
  },
  {
   "cell_type": "markdown",
   "metadata": {},
   "source": [
    "## Agent 2: Friend-Q"
   ]
  },
  {
   "cell_type": "markdown",
   "metadata": {},
   "source": [
    "### Step 1: Set Hyperparameters"
   ]
  },
  {
   "cell_type": "code",
   "execution_count": 9,
   "metadata": {},
   "outputs": [],
   "source": [
    "n_episodes_MAX = 10*10**5\n",
    "steps_MAX = 100\n",
    "verbose = False\n",
    "alpha = 0.05"
   ]
  },
  {
   "cell_type": "markdown",
   "metadata": {},
   "source": [
    "### Step 2: Instantiate Friend-Q Agent\n",
    "\n",
    "Friend Q is overly optimistic as it assumes a win for either player is a win for itself, so we pass it:\n",
    "\n",
    "`num_states = env.observation_space.n`   \n",
    "`num_actions = env.action_space.n`  #both players actions"
   ]
  },
  {
   "cell_type": "code",
   "execution_count": 10,
   "metadata": {},
   "outputs": [],
   "source": [
    "num_states = env.observation_space.n\n",
    "num_actions = env.action_space.n\n",
    "\n",
    "#Instantiate Q-Learner\n",
    "from QLearner import QLearningAgent\n",
    "Friend_Q_agent = QLearningAgent(state_size=num_states, \n",
    "                                action_size=num_actions,\n",
    "                               learning_rate=alpha)\n",
    "\n",
    "# Ref state s, action 'S'\n",
    "ref_state = SoccerEnv.encode_state(0, 2, 0, 1, 0)\n",
    "ref_P1_action = int(SoccerEnv.Action.S)\n",
    "ref_P2_action = int(SoccerEnv.Action.Stick)\n",
    "ref_action_joint = env.encode_action(ref_P1_action, ref_P2_action)\n",
    "\n",
    "# Q errors for plotting\n",
    "Friend_Q_P1_Q_errors = []\n",
    "\n",
    "for i_episode in range(n_episodes_MAX):\n",
    "    state = env.reset()\n",
    "\n",
    "    P1_Q_ref = Friend_Q_agent.Q[ref_state, ref_action_joint]\n",
    "\n",
    "    for t in range(steps_MAX):\n",
    "#         P1_action = Friend_Q_agent.sample_policy(state)\n",
    "        joint_action = np.random.randint(num_actions)\n",
    "\n",
    "        # Take action A, observe R, S'\n",
    "        state_new, reward, done, info = env.step(joint_action)\n",
    "        \n",
    "        \n",
    "        reward_P1 = reward if X else: -reward\n",
    "\n",
    "        Friend_Q_agent.learn(reward, state, state_new, joint_action)\n",
    "\n",
    "        state = state_new\n",
    "\n",
    "        if done:\n",
    "            if verbose:\n",
    "                print(\"Episode finished after {} timesteps\".format(t + 1))\n",
    "            break\n",
    "\n",
    "    # calc error at end of episode update\n",
    "    Friend_Q_P1_Q_errors.append(np.abs(Friend_Q_agent.Q[ref_state, ref_action_joint] - P1_Q_ref))\n",
    "\n",
    "    np.save('./models/Friend_Q', Friend_Q_agent.Q)\n",
    "    env.close()"
   ]
  },
  {
   "cell_type": "markdown",
   "metadata": {},
   "source": [
    "#### 1. Run the experiment\n",
    "\n",
    "1. Collect data necessary to reproduce all the graphs in Figure 3\n",
    "Reproduce graphs.\n",
    "\n",
    "2. Instantiate Environment and Agent\n"
   ]
  },
  {
   "cell_type": "code",
   "execution_count": 13,
   "metadata": {},
   "outputs": [
    {
     "data": {
      "text/plain": [
       "Text(0.5, 0, 'Simulation Iteration (x10^5)')"
      ]
     },
     "execution_count": 13,
     "metadata": {},
     "output_type": "execute_result"
    },
    {
     "data": {
      "image/png": "[encoded data removed]",
      "text/plain": [
       "<Figure size 720x576 with 1 Axes>"
      ]
     },
     "metadata": {
      "needs_background": "light"
     },
     "output_type": "display_data"
    }
   ],
   "source": [
    "import matplotlib.ticker as ticker\n",
    "\n",
    "# plot the scores\n",
    "fig, ax = plt.subplots(1, 1, figsize=(10, 8))\n",
    "plt.title('Friend-Q')\n",
    "\n",
    "plt.plot(np.arange(len(Friend_Q_P1_Q_errors)), Friend_Q_P1_Q_errors);\n",
    "ax.xaxis.set_major_locator(ticker.LinearLocator(11))\n",
    "\n",
    "labels = range(0, int(n_episodes_MAX / 10**5)+1)\n",
    "ax.set_xticklabels(labels)\n",
    "\n",
    "plt.xlim( (0, n_episodes_MAX) )\n",
    "plt.ylim( (0, 0.5) )\n",
    "plt.ylabel('Q-value Difference')\n",
    "plt.xlabel('Simulation Iteration (x10^5)')\n",
    "# fig.savefig('./figures/Friend_Q.png', dpi=fig.dpi)"
   ]
  },
  {
   "cell_type": "markdown",
   "metadata": {},
   "source": [
    "### Agent: Foe-Q"
   ]
  },
  {
   "cell_type": "markdown",
   "metadata": {},
   "source": [
    "### Step 1: Set Hyperparameters"
   ]
  },
  {
   "cell_type": "code",
   "execution_count": 29,
   "metadata": {},
   "outputs": [],
   "source": [
    "n_episodes_MAX = 8*10**5 #10*10**5\n",
    "steps_MAX = 100\n",
    "verbose = False\n",
    "alpha = 0.01"
   ]
  },
  {
   "cell_type": "markdown",
   "metadata": {},
   "source": [
    "### Step 2: Instantiate Foe-Q Agent\n",
    "\n",
    "Foe Q is focused on performing as well as possible, while making sure you perform as poorly as possible (known as Minimax-Q), so we pass it:\n",
    "\n",
    "`num_states = env.observation_space.n`   \n",
    "`num_actions = int(math.sqrt(env.action_space.n))`  #personal \n",
    "\n",
    "and...\n",
    "\n",
    "use Minimax-Q LP solver."
   ]
  },
  {
   "cell_type": "code",
   "execution_count": 30,
   "metadata": {
    "scrolled": true
   },
   "outputs": [
    {
     "ename": "KeyboardInterrupt",
     "evalue": "",
     "output_type": "error",
     "traceback": [
      "\u001b[0;31m---------------------------------------------------------------------------\u001b[0m",
      "\u001b[0;31mKeyboardInterrupt\u001b[0m                         Traceback (most recent call last)",
      "\u001b[0;32m<ipython-input-30-56910c99b50c>\u001b[0m in \u001b[0;36m<module>\u001b[0;34m\u001b[0m\n\u001b[1;32m     31\u001b[0m         \u001b[0;31m#Update Q\u001b[0m\u001b[0;34m\u001b[0m\u001b[0;34m\u001b[0m\u001b[0;34m\u001b[0m\u001b[0m\n\u001b[1;32m     32\u001b[0m         \u001b[0mP1_action\u001b[0m\u001b[0;34m,\u001b[0m \u001b[0mP2_action\u001b[0m \u001b[0;34m=\u001b[0m \u001b[0menv\u001b[0m\u001b[0;34m.\u001b[0m\u001b[0mdecode_action\u001b[0m\u001b[0;34m(\u001b[0m\u001b[0mjoint_action\u001b[0m\u001b[0;34m)\u001b[0m\u001b[0;34m\u001b[0m\u001b[0;34m\u001b[0m\u001b[0m\n\u001b[0;32m---> 33\u001b[0;31m         \u001b[0mFoe_Q_agent\u001b[0m\u001b[0;34m.\u001b[0m\u001b[0mlearn\u001b[0m\u001b[0;34m(\u001b[0m\u001b[0mreward\u001b[0m\u001b[0;34m,\u001b[0m \u001b[0mstate\u001b[0m\u001b[0;34m,\u001b[0m \u001b[0mstate_new\u001b[0m\u001b[0;34m,\u001b[0m \u001b[0mP1_action\u001b[0m\u001b[0;34m,\u001b[0m \u001b[0mP2_action\u001b[0m\u001b[0;34m)\u001b[0m\u001b[0;34m\u001b[0m\u001b[0;34m\u001b[0m\u001b[0m\n\u001b[0m\u001b[1;32m     34\u001b[0m \u001b[0;34m\u001b[0m\u001b[0m\n\u001b[1;32m     35\u001b[0m         \u001b[0mstate\u001b[0m \u001b[0;34m=\u001b[0m \u001b[0mstate_new\u001b[0m\u001b[0;34m\u001b[0m\u001b[0;34m\u001b[0m\u001b[0m\n",
      "\u001b[0;32m~/masters/cs7642/projects/7642Fall2019cmontgomery38/project3/QLearner.py\u001b[0m in \u001b[0;36mlearn\u001b[0;34m(self, reward, state, state_new, P1_action, P2_action)\u001b[0m\n\u001b[1;32m     99\u001b[0m \u001b[0;34m\u001b[0m\u001b[0m\n\u001b[1;32m    100\u001b[0m         \u001b[0;32melif\u001b[0m \u001b[0mself\u001b[0m\u001b[0;34m.\u001b[0m\u001b[0mvalue_state_function_learner\u001b[0m \u001b[0;34m==\u001b[0m \u001b[0;34m'minimax-q'\u001b[0m\u001b[0;34m:\u001b[0m\u001b[0;34m\u001b[0m\u001b[0;34m\u001b[0m\u001b[0m\n\u001b[0;32m--> 101\u001b[0;31m             \u001b[0mV\u001b[0m \u001b[0;34m=\u001b[0m \u001b[0mself\u001b[0m\u001b[0;34m.\u001b[0m\u001b[0msolve_minimax_Q\u001b[0m\u001b[0;34m(\u001b[0m\u001b[0mself\u001b[0m\u001b[0;34m.\u001b[0m\u001b[0mQ\u001b[0m\u001b[0;34m[\u001b[0m\u001b[0mstate\u001b[0m\u001b[0;34m]\u001b[0m\u001b[0;34m)\u001b[0m\u001b[0;34m\u001b[0m\u001b[0;34m\u001b[0m\u001b[0m\n\u001b[0m\u001b[1;32m    102\u001b[0m             \u001b[0;31m# td_error, TD target - current state_value function estimate\u001b[0m\u001b[0;34m\u001b[0m\u001b[0;34m\u001b[0m\u001b[0;34m\u001b[0m\u001b[0m\n\u001b[1;32m    103\u001b[0m             \u001b[0mtd_error\u001b[0m \u001b[0;34m=\u001b[0m \u001b[0mreward\u001b[0m \u001b[0;34m+\u001b[0m \u001b[0;34m(\u001b[0m\u001b[0mself\u001b[0m\u001b[0;34m.\u001b[0m\u001b[0mgamma\u001b[0m \u001b[0;34m*\u001b[0m \u001b[0mV\u001b[0m\u001b[0;34m)\u001b[0m\u001b[0;34m\u001b[0m\u001b[0;34m\u001b[0m\u001b[0m\n",
      "\u001b[0;32m~/masters/cs7642/projects/7642Fall2019cmontgomery38/project3/QLearner.py\u001b[0m in \u001b[0;36msolve_minimax_Q\u001b[0;34m(self, game_matrix)\u001b[0m\n\u001b[1;32m     86\u001b[0m                                 \u001b[0mh\u001b[0m\u001b[0;34m=\u001b[0m\u001b[0mmatrix\u001b[0m\u001b[0;34m(\u001b[0m\u001b[0mh\u001b[0m\u001b[0;34m,\u001b[0m \u001b[0mtc\u001b[0m\u001b[0;34m=\u001b[0m\u001b[0;34m'd'\u001b[0m\u001b[0;34m)\u001b[0m\u001b[0;34m,\u001b[0m\u001b[0;34m\u001b[0m\u001b[0;34m\u001b[0m\u001b[0m\n\u001b[1;32m     87\u001b[0m                                 \u001b[0mA\u001b[0m\u001b[0;34m=\u001b[0m\u001b[0mmatrix\u001b[0m\u001b[0;34m(\u001b[0m\u001b[0mA\u001b[0m\u001b[0;34m,\u001b[0m \u001b[0mtc\u001b[0m\u001b[0;34m=\u001b[0m\u001b[0;34m'd'\u001b[0m\u001b[0;34m)\u001b[0m\u001b[0;34m,\u001b[0m\u001b[0;34m\u001b[0m\u001b[0;34m\u001b[0m\u001b[0m\n\u001b[0;32m---> 88\u001b[0;31m                                 b=matrix(b, tc='d'))\n\u001b[0m\u001b[1;32m     89\u001b[0m         \u001b[0;32mreturn\u001b[0m \u001b[0msol\u001b[0m\u001b[0;34m[\u001b[0m\u001b[0;34m'primal objective'\u001b[0m\u001b[0;34m]\u001b[0m\u001b[0;34m\u001b[0m\u001b[0;34m\u001b[0m\u001b[0m\n\u001b[1;32m     90\u001b[0m \u001b[0;34m\u001b[0m\u001b[0m\n",
      "\u001b[0;32m~/miniconda3/envs/RL/lib/python3.7/site-packages/cvxopt/coneprog.py\u001b[0m in \u001b[0;36mlp\u001b[0;34m(c, G, h, A, b, kktsolver, solver, primalstart, dualstart, **kwargs)\u001b[0m\n\u001b[1;32m   3008\u001b[0m \u001b[0;34m\u001b[0m\u001b[0m\n\u001b[1;32m   3009\u001b[0m     return conelp(c, G, h, {'l': m, 'q': [], 's': []}, A,  b, primalstart,\n\u001b[0;32m-> 3010\u001b[0;31m         dualstart, kktsolver = kktsolver, options = options)\n\u001b[0m\u001b[1;32m   3011\u001b[0m \u001b[0;34m\u001b[0m\u001b[0m\n\u001b[1;32m   3012\u001b[0m \u001b[0;34m\u001b[0m\u001b[0m\n",
      "\u001b[0;32m~/miniconda3/envs/RL/lib/python3.7/site-packages/cvxopt/coneprog.py\u001b[0m in \u001b[0;36mconelp\u001b[0;34m(c, G, h, dims, A, b, primalstart, dualstart, kktsolver, xnewcopy, xdot, xaxpy, xscal, ynewcopy, ydot, yaxpy, yscal, **kwargs)\u001b[0m\n\u001b[1;32m   1298\u001b[0m             \u001b[0mdtau\u001b[0m\u001b[0;34m[\u001b[0m\u001b[0;36m0\u001b[0m\u001b[0;34m]\u001b[0m \u001b[0;34m=\u001b[0m \u001b[0;34m(\u001b[0m\u001b[0;36m1.0\u001b[0m \u001b[0;34m-\u001b[0m \u001b[0msigma\u001b[0m\u001b[0;34m)\u001b[0m \u001b[0;34m*\u001b[0m \u001b[0mrt\u001b[0m\u001b[0;34m\u001b[0m\u001b[0;34m\u001b[0m\u001b[0m\n\u001b[1;32m   1299\u001b[0m \u001b[0;34m\u001b[0m\u001b[0m\n\u001b[0;32m-> 1300\u001b[0;31m             \u001b[0mf6\u001b[0m\u001b[0;34m(\u001b[0m\u001b[0mdx\u001b[0m\u001b[0;34m,\u001b[0m \u001b[0mdy\u001b[0m\u001b[0;34m,\u001b[0m \u001b[0mdz\u001b[0m\u001b[0;34m,\u001b[0m \u001b[0mdtau\u001b[0m\u001b[0;34m,\u001b[0m \u001b[0mds\u001b[0m\u001b[0;34m,\u001b[0m \u001b[0mdkappa\u001b[0m\u001b[0;34m)\u001b[0m\u001b[0;34m\u001b[0m\u001b[0;34m\u001b[0m\u001b[0m\n\u001b[0m\u001b[1;32m   1301\u001b[0m \u001b[0;34m\u001b[0m\u001b[0m\n\u001b[1;32m   1302\u001b[0m             \u001b[0;31m# Save ds o dz and dkappa * dtau for Mehrotra correction\u001b[0m\u001b[0;34m\u001b[0m\u001b[0;34m\u001b[0m\u001b[0;34m\u001b[0m\u001b[0m\n",
      "\u001b[0;32m~/miniconda3/envs/RL/lib/python3.7/site-packages/cvxopt/coneprog.py\u001b[0m in \u001b[0;36mf6\u001b[0;34m(x, y, z, tau, s, kappa)\u001b[0m\n\u001b[1;32m   1217\u001b[0m                 \u001b[0mblas\u001b[0m\u001b[0;34m.\u001b[0m\u001b[0mcopy\u001b[0m\u001b[0;34m(\u001b[0m\u001b[0ms\u001b[0m\u001b[0;34m,\u001b[0m \u001b[0mws\u001b[0m\u001b[0;34m)\u001b[0m\u001b[0;34m\u001b[0m\u001b[0;34m\u001b[0m\u001b[0m\n\u001b[1;32m   1218\u001b[0m                 \u001b[0mwkappa\u001b[0m\u001b[0;34m[\u001b[0m\u001b[0;36m0\u001b[0m\u001b[0;34m]\u001b[0m \u001b[0;34m=\u001b[0m \u001b[0mkappa\u001b[0m\u001b[0;34m[\u001b[0m\u001b[0;36m0\u001b[0m\u001b[0;34m]\u001b[0m\u001b[0;34m\u001b[0m\u001b[0;34m\u001b[0m\u001b[0m\n\u001b[0;32m-> 1219\u001b[0;31m             \u001b[0mf6_no_ir\u001b[0m\u001b[0;34m(\u001b[0m\u001b[0mx\u001b[0m\u001b[0;34m,\u001b[0m \u001b[0my\u001b[0m\u001b[0;34m,\u001b[0m \u001b[0mz\u001b[0m\u001b[0;34m,\u001b[0m \u001b[0mtau\u001b[0m\u001b[0;34m,\u001b[0m \u001b[0ms\u001b[0m\u001b[0;34m,\u001b[0m \u001b[0mkappa\u001b[0m\u001b[0;34m)\u001b[0m\u001b[0;34m\u001b[0m\u001b[0;34m\u001b[0m\u001b[0m\n\u001b[0m\u001b[1;32m   1220\u001b[0m             \u001b[0;32mfor\u001b[0m \u001b[0mi\u001b[0m \u001b[0;32min\u001b[0m \u001b[0mrange\u001b[0m\u001b[0;34m(\u001b[0m\u001b[0mrefinement\u001b[0m\u001b[0;34m)\u001b[0m\u001b[0;34m:\u001b[0m\u001b[0;34m\u001b[0m\u001b[0;34m\u001b[0m\u001b[0m\n\u001b[1;32m   1221\u001b[0m                 \u001b[0mxcopy\u001b[0m\u001b[0;34m(\u001b[0m\u001b[0mwx\u001b[0m\u001b[0;34m,\u001b[0m \u001b[0mwx2\u001b[0m\u001b[0;34m)\u001b[0m\u001b[0;34m\u001b[0m\u001b[0;34m\u001b[0m\u001b[0m\n",
      "\u001b[0;32m~/miniconda3/envs/RL/lib/python3.7/site-packages/cvxopt/coneprog.py\u001b[0m in \u001b[0;36mf6_no_ir\u001b[0;34m(x, y, z, tau, s, kappa)\u001b[0m\n\u001b[1;32m   1185\u001b[0m \u001b[0;34m\u001b[0m\u001b[0m\n\u001b[1;32m   1186\u001b[0m             tau[0] = dgi * ( tau[0] + xdot(c,x) + ydot(b,y) +\n\u001b[0;32m-> 1187\u001b[0;31m                 misc.sdot(th, z, dims) ) / (1.0 + misc.sdot(z1, z1, dims))\n\u001b[0m\u001b[1;32m   1188\u001b[0m             \u001b[0mxaxpy\u001b[0m\u001b[0;34m(\u001b[0m\u001b[0mx1\u001b[0m\u001b[0;34m,\u001b[0m \u001b[0mx\u001b[0m\u001b[0;34m,\u001b[0m \u001b[0malpha\u001b[0m \u001b[0;34m=\u001b[0m \u001b[0mtau\u001b[0m\u001b[0;34m[\u001b[0m\u001b[0;36m0\u001b[0m\u001b[0;34m]\u001b[0m\u001b[0;34m)\u001b[0m\u001b[0;34m\u001b[0m\u001b[0;34m\u001b[0m\u001b[0m\n\u001b[1;32m   1189\u001b[0m             \u001b[0myaxpy\u001b[0m\u001b[0;34m(\u001b[0m\u001b[0my1\u001b[0m\u001b[0;34m,\u001b[0m \u001b[0my\u001b[0m\u001b[0;34m,\u001b[0m \u001b[0malpha\u001b[0m \u001b[0;34m=\u001b[0m \u001b[0mtau\u001b[0m\u001b[0;34m[\u001b[0m\u001b[0;36m0\u001b[0m\u001b[0;34m]\u001b[0m\u001b[0;34m)\u001b[0m\u001b[0;34m\u001b[0m\u001b[0;34m\u001b[0m\u001b[0m\n",
      "\u001b[0;31mKeyboardInterrupt\u001b[0m: "
     ]
    }
   ],
   "source": [
    "num_states = env.observation_space.n\n",
    "num_actions = env.action_space.n\n",
    "num_individual_actions = int(math.sqrt(env.action_space.n)) #individual player action space is 5, joint action space is 25\n",
    "\n",
    "#Instantiate Q-Learner\n",
    "from QLearner import QLearningAgent\n",
    "Foe_Q_agent = QLearningAgent(state_size=num_states, \n",
    "                                action_size=num_individual_actions,\n",
    "                             value_state_function_learner='minimax-q',\n",
    "                               learning_rate=alpha)\n",
    "\n",
    "# Ref state s, action 'S'\n",
    "ref_state = SoccerEnv.encode_state(0, 2, 0, 1, 0)\n",
    "ref_P1_action = int(SoccerEnv.Action.S)\n",
    "ref_P2_action = int(SoccerEnv.Action.Stick)\n",
    "\n",
    "# Q errors for plotting\n",
    "Foe_Q_P1_Q_errors = []\n",
    "\n",
    "for i_episode in range(n_episodes_MAX):\n",
    "    state = env.reset()\n",
    "\n",
    "    P1_Q_ref = Foe_Q_agent.Q[ref_state, ref_P1_action, ref_P2_action]\n",
    "\n",
    "    for t in range(steps_MAX):\n",
    "        joint_action = np.random.randint(num_actions)\n",
    "\n",
    "        # Take action A, observe R, S'\n",
    "        state_new, reward, done, info = env.step(joint_action)\n",
    "        \n",
    "        #Update Q\n",
    "        P1_action, P2_action = env.decode_action(joint_action)\n",
    "        Foe_Q_agent.learn(reward, state, state_new, P1_action, P2_action)\n",
    "\n",
    "        state = state_new\n",
    "\n",
    "        if done:\n",
    "            if verbose:\n",
    "                print(\"Episode finished after {} timesteps\".format(t + 1))\n",
    "            break\n",
    "\n",
    "    # calc error at end of episode update\n",
    "    Foe_Q_P1_Q_errors.append(np.abs(Foe_Q_agent.Q[ref_state, ref_P1_action, ref_P2_action] - P1_Q_ref))\n",
    "\n",
    "    np.save('./models/Foe_Q', Foe_Q_agent.Q)\n",
    "    env.close()"
   ]
  },
  {
   "cell_type": "markdown",
   "metadata": {},
   "source": [
    "#### 1. Run the experiment\n",
    "\n",
    "1. Collect data necessary to reproduce all the graphs in Figure 3\n",
    "Reproduce graphs.\n",
    "\n",
    "2. Instantiate Environment and Agent\n"
   ]
  },
  {
   "cell_type": "code",
   "execution_count": 35,
   "metadata": {},
   "outputs": [
    {
     "data": {
      "image/png": "[encoded data removed]",
      "text/plain": [
       "<Figure size 720x576 with 1 Axes>"
      ]
     },
     "metadata": {
      "needs_background": "light"
     },
     "output_type": "display_data"
    }
   ],
   "source": [
    "import matplotlib.ticker as ticker\n",
    "\n",
    "# plot the scores\n",
    "fig, ax = plt.subplots(1, 1, figsize=(10, 8))\n",
    "plt.title('Foe-Q')\n",
    "\n",
    "plt.plot(np.arange(len(Foe_Q_P1_Q_errors)), Foe_Q_P1_Q_errors);\n",
    "# ax.xaxis.set_major_locator(ticker.LinearLocator(11))\n",
    "\n",
    "# labels = range(0, int(n_episodes_MAX / 10**5)+1)\n",
    "# ax.set_xticklabels(labels)\n",
    "\n",
    "# plt.xlim( (0, n_episodes_MAX) )\n",
    "# plt.ylim( (0, 0.5) )\n",
    "# plt.ylabel('Q-value Difference')\n",
    "# plt.xlabel('Simulation Iteration (x10^5)')\n",
    "# fig.savefig('./figures/Foe_Q.png', dpi=fig.dpi)"
   ]
  },
  {
   "cell_type": "markdown",
   "metadata": {},
   "source": [
    "### Agent: Correlated-Q"
   ]
  },
  {
   "cell_type": "markdown",
   "metadata": {},
   "source": [
    "### Step 1: Set Hyperparameters"
   ]
  },
  {
   "cell_type": "code",
   "execution_count": 4,
   "metadata": {},
   "outputs": [],
   "source": [
    "n_episodes_MAX = 10*10**5\n",
    "steps_MAX = 100\n",
    "verbose = False\n",
    "alpha = 0.9"
   ]
  },
  {
   "cell_type": "markdown",
   "metadata": {},
   "source": [
    "### Step 2: Instantiate Correlated-Q Agent\n",
    "\n",
    "`num_states = env.observation_space.n`   \n",
    "`num_actions = env.action_space.n`  #both players actions\n",
    "\n",
    "and...\n",
    "\n",
    "constraints\n",
    "1. Probability Constraints = Sum of Probs = 1 AND Probs >=0\n",
    "2. Rationality Constraints = N*(N-1) Constraints of expected reward"
   ]
  },
  {
   "cell_type": "code",
   "execution_count": 13,
   "metadata": {
    "scrolled": true
   },
   "outputs": [
    {
     "name": "stdout",
     "output_type": "stream",
     "text": [
      "Q_ERR[@iter=0]\t=0.0\n",
      "Q_ERR[@iter=50000]\t=0.0\n",
      "Q_ERR[@iter=100000]\t=0.0\n",
      "Q_ERR[@iter=150000]\t=0.0\n",
      "Q_ERR[@iter=200000]\t=0.0\n",
      "Q_ERR[@iter=250000]\t=0.0\n"
     ]
    },
    {
     "ename": "KeyboardInterrupt",
     "evalue": "",
     "output_type": "error",
     "traceback": [
      "\u001b[0;31m---------------------------------------------------------------------------\u001b[0m",
      "\u001b[0;31mKeyboardInterrupt\u001b[0m                         Traceback (most recent call last)",
      "\u001b[0;32m<ipython-input-13-534af56f909d>\u001b[0m in \u001b[0;36m<module>\u001b[0;34m\u001b[0m\n\u001b[1;32m     39\u001b[0m \u001b[0;31m#         P1_reward, P2_reward = env.decode_reward(state, reward)\u001b[0m\u001b[0;34m\u001b[0m\u001b[0;34m\u001b[0m\u001b[0;34m\u001b[0m\u001b[0m\n\u001b[1;32m     40\u001b[0m \u001b[0;34m\u001b[0m\u001b[0m\n\u001b[0;32m---> 41\u001b[0;31m         \u001b[0mceq_V_P1\u001b[0m\u001b[0;34m,\u001b[0m \u001b[0mceq_V_P2\u001b[0m \u001b[0;34m=\u001b[0m \u001b[0msolve_corr_Q\u001b[0m\u001b[0;34m(\u001b[0m\u001b[0mCorrQ_agent_P1\u001b[0m\u001b[0;34m.\u001b[0m\u001b[0mQ\u001b[0m\u001b[0;34m,\u001b[0m \u001b[0mCorrQ_agent_P2\u001b[0m\u001b[0;34m.\u001b[0m\u001b[0mQ\u001b[0m\u001b[0;34m,\u001b[0m \u001b[0mstate\u001b[0m\u001b[0;34m)\u001b[0m\u001b[0;34m\u001b[0m\u001b[0;34m\u001b[0m\u001b[0m\n\u001b[0m\u001b[1;32m     42\u001b[0m \u001b[0;34m\u001b[0m\u001b[0m\n\u001b[1;32m     43\u001b[0m \u001b[0;31m#         CorrQ_agent_P1.learn(P1_reward, state, state_new, P1_action, P2_action, ceq_V_P1)\u001b[0m\u001b[0;34m\u001b[0m\u001b[0;34m\u001b[0m\u001b[0;34m\u001b[0m\u001b[0m\n",
      "\u001b[0;32m~/masters/cs7642/projects/7642Fall2019cmontgomery38/project3/QLearner.py\u001b[0m in \u001b[0;36msolve_corr_Q\u001b[0;34m(Q1, Q2, state)\u001b[0m\n\u001b[1;32m     42\u001b[0m     sol = solvers.lp(c=matrix(-1 * c, tc='d'),  # CONFORM to CVXOPT: G => swap inequality AND C => flip min to max\n\u001b[1;32m     43\u001b[0m                      \u001b[0mG\u001b[0m\u001b[0;34m=\u001b[0m\u001b[0mmatrix\u001b[0m\u001b[0;34m(\u001b[0m\u001b[0;34m-\u001b[0m\u001b[0;36m1\u001b[0m \u001b[0;34m*\u001b[0m \u001b[0mG\u001b[0m\u001b[0;34m,\u001b[0m \u001b[0mtc\u001b[0m\u001b[0;34m=\u001b[0m\u001b[0;34m'd'\u001b[0m\u001b[0;34m)\u001b[0m\u001b[0;34m,\u001b[0m\u001b[0;34m\u001b[0m\u001b[0;34m\u001b[0m\u001b[0m\n\u001b[0;32m---> 44\u001b[0;31m                      \u001b[0mh\u001b[0m\u001b[0;34m=\u001b[0m\u001b[0mmatrix\u001b[0m\u001b[0;34m(\u001b[0m\u001b[0mh\u001b[0m\u001b[0;34m,\u001b[0m \u001b[0mtc\u001b[0m\u001b[0;34m=\u001b[0m\u001b[0;34m'd'\u001b[0m\u001b[0;34m)\u001b[0m\u001b[0;34m,\u001b[0m\u001b[0;34m\u001b[0m\u001b[0;34m\u001b[0m\u001b[0m\n\u001b[0m\u001b[1;32m     45\u001b[0m                      \u001b[0mA\u001b[0m\u001b[0;34m=\u001b[0m\u001b[0mmatrix\u001b[0m\u001b[0;34m(\u001b[0m\u001b[0mA\u001b[0m\u001b[0;34m,\u001b[0m \u001b[0mtc\u001b[0m\u001b[0;34m=\u001b[0m\u001b[0;34m'd'\u001b[0m\u001b[0;34m)\u001b[0m\u001b[0;34m,\u001b[0m\u001b[0;34m\u001b[0m\u001b[0;34m\u001b[0m\u001b[0m\n\u001b[1;32m     46\u001b[0m                      b=matrix(b, tc='d'), solver=solver)\n",
      "\u001b[0;32m~/miniconda3/envs/RL/lib/python3.7/site-packages/cvxopt/coneprog.py\u001b[0m in \u001b[0;36mlp\u001b[0;34m(c, G, h, A, b, kktsolver, solver, primalstart, dualstart, **kwargs)\u001b[0m\n\u001b[1;32m   3008\u001b[0m \u001b[0;34m\u001b[0m\u001b[0m\n\u001b[1;32m   3009\u001b[0m     return conelp(c, G, h, {'l': m, 'q': [], 's': []}, A,  b, primalstart,\n\u001b[0;32m-> 3010\u001b[0;31m         dualstart, kktsolver = kktsolver, options = options)\n\u001b[0m\u001b[1;32m   3011\u001b[0m \u001b[0;34m\u001b[0m\u001b[0m\n\u001b[1;32m   3012\u001b[0m \u001b[0;34m\u001b[0m\u001b[0m\n",
      "\u001b[0;32m~/miniconda3/envs/RL/lib/python3.7/site-packages/cvxopt/coneprog.py\u001b[0m in \u001b[0;36mconelp\u001b[0;34m(c, G, h, dims, A, b, primalstart, dualstart, kktsolver, xnewcopy, xdot, xaxpy, xscal, ynewcopy, ydot, yaxpy, yscal, **kwargs)\u001b[0m\n\u001b[1;32m   1293\u001b[0m \u001b[0;34m\u001b[0m\u001b[0m\n\u001b[1;32m   1294\u001b[0m             \u001b[0;31m# (dx, dy, dz, dtau) = (1-sigma)*(rx, ry, rz, rt)\u001b[0m\u001b[0;34m\u001b[0m\u001b[0;34m\u001b[0m\u001b[0;34m\u001b[0m\u001b[0m\n\u001b[0;32m-> 1295\u001b[0;31m             \u001b[0mxcopy\u001b[0m\u001b[0;34m(\u001b[0m\u001b[0mrx\u001b[0m\u001b[0;34m,\u001b[0m \u001b[0mdx\u001b[0m\u001b[0;34m)\u001b[0m\u001b[0;34m;\u001b[0m  \u001b[0mxscal\u001b[0m\u001b[0;34m(\u001b[0m\u001b[0;36m1.0\u001b[0m \u001b[0;34m-\u001b[0m \u001b[0msigma\u001b[0m\u001b[0;34m,\u001b[0m \u001b[0mdx\u001b[0m\u001b[0;34m)\u001b[0m\u001b[0;34m\u001b[0m\u001b[0;34m\u001b[0m\u001b[0m\n\u001b[0m\u001b[1;32m   1296\u001b[0m             \u001b[0mycopy\u001b[0m\u001b[0;34m(\u001b[0m\u001b[0mry\u001b[0m\u001b[0;34m,\u001b[0m \u001b[0mdy\u001b[0m\u001b[0;34m)\u001b[0m\u001b[0;34m;\u001b[0m  \u001b[0myscal\u001b[0m\u001b[0;34m(\u001b[0m\u001b[0;36m1.0\u001b[0m \u001b[0;34m-\u001b[0m \u001b[0msigma\u001b[0m\u001b[0;34m,\u001b[0m \u001b[0mdy\u001b[0m\u001b[0;34m)\u001b[0m\u001b[0;34m\u001b[0m\u001b[0;34m\u001b[0m\u001b[0m\n\u001b[1;32m   1297\u001b[0m             \u001b[0mblas\u001b[0m\u001b[0;34m.\u001b[0m\u001b[0mcopy\u001b[0m\u001b[0;34m(\u001b[0m\u001b[0mrz\u001b[0m\u001b[0;34m,\u001b[0m \u001b[0mdz\u001b[0m\u001b[0;34m)\u001b[0m\u001b[0;34m;\u001b[0m  \u001b[0mblas\u001b[0m\u001b[0;34m.\u001b[0m\u001b[0mscal\u001b[0m\u001b[0;34m(\u001b[0m\u001b[0;36m1.0\u001b[0m \u001b[0;34m-\u001b[0m \u001b[0msigma\u001b[0m\u001b[0;34m,\u001b[0m \u001b[0mdz\u001b[0m\u001b[0;34m)\u001b[0m\u001b[0;34m\u001b[0m\u001b[0;34m\u001b[0m\u001b[0m\n",
      "\u001b[0;31mKeyboardInterrupt\u001b[0m: "
     ]
    }
   ],
   "source": [
    "# num_states = env.observation_space.n\n",
    "# num_actions = env.action_space.n\n",
    "# num_individual_actions = int(math.sqrt(env.action_space.n)) #individual player action space is 5, joint action space is 25\n",
    "\n",
    "# #Instantiate Q-Learner\n",
    "# # from QLearner import solve_corr_Q\n",
    "# # from QLearner import QLearningAgent\n",
    "# # CorrQ_agent_P1 = QLearningAgent(state_size=num_states, \n",
    "# #                                 action_size=num_individual_actions,\n",
    "# #                              value_state_function_learner='max-sum-q',\n",
    "# #                                learning_rate=alpha)\n",
    "\n",
    "# # CorrQ_agent_P2 = QLearningAgent(state_size=num_states, \n",
    "# #                                 action_size=num_individual_actions,\n",
    "# #                              value_state_function_learner='max-sum-q',\n",
    "# #                                learning_rate=alpha)\n",
    "\n",
    "# # Ref state s, action 'S'\n",
    "# ref_state = SoccerEnv.encode_state(0, 2, 0, 1, 0)\n",
    "# ref_P1_action = int(SoccerEnv.Action.S)\n",
    "# ref_P2_action = int(SoccerEnv.Action.Stick)\n",
    "\n",
    "# # Q errors for plotting\n",
    "# # CorrQ_P1_Q_errors = []\n",
    "\n",
    "# for i_episode in range(n_episodes_MAX):\n",
    "#     state = env.reset()\n",
    "\n",
    "#     P1_Q_ref = CorrQ_agent_P1.Q[ref_state, ref_P1_action, ref_P2_action]\n",
    "\n",
    "#     for t in range(steps_MAX):\n",
    "#         joint_action = np.random.randint(num_actions)\n",
    "\n",
    "#         # Take action A, observe R, S'\n",
    "#         state_new, reward, done, info = env.step(joint_action)\n",
    "        \n",
    "#         #Update Q\n",
    "#         P1_action, P2_action = env.decode_action(joint_action)\n",
    "# #         P1_reward, P2_reward = env.decode_reward(state, reward)\n",
    "        \n",
    "#         ceq_V_P1, ceq_V_P2 = solve_corr_Q(CorrQ_agent_P1.Q, CorrQ_agent_P2.Q, state)\n",
    "        \n",
    "# #         CorrQ_agent_P1.learn(P1_reward, state, state_new, P1_action, P2_action, ceq_V_P1)\n",
    "# #         CorrQ_agent_P2.learn(P2_reward, state, state_new, P1_action, P2_action, ceq_V_P2)\n",
    "#         CorrQ_agent_P1.learn(reward, state, state_new, P1_action, P2_action, ceq_V_P1)\n",
    "#         CorrQ_agent_P2.learn(reward, state, state_new, P1_action, P2_action, ceq_V_P2)\n",
    "\n",
    "#         state = state_new\n",
    "\n",
    "#         if done:\n",
    "#             if verbose:\n",
    "#                 print(\"Episode finished after {} timesteps\".format(t + 1))\n",
    "#             break\n",
    "    \n",
    "#     Q_error = np.abs(CorrQ_agent_P1.Q[ref_state, ref_P1_action, ref_P2_action] - P1_Q_ref)\n",
    "    \n",
    "#     if i_episode % 50000 == 0:\n",
    "#         print('Q_ERR[@iter={}]\\t={}'.format(i_episode, Q_error))\n",
    "    \n",
    "#     # calc error at end of episode update\n",
    "#     CorrQ_P1_Q_errors.append(Q_error)\n",
    "\n",
    "#     np.save('./models/Corr_Q', CorrQ_agent_P1.Q)\n",
    "#     env.close()"
   ]
  },
  {
   "cell_type": "code",
   "execution_count": null,
   "metadata": {},
   "outputs": [],
   "source": [
    "num_states = env.observation_space.n\n",
    "num_actions = env.action_space.n\n",
    "num_individual_actions = int(math.sqrt(env.action_space.n)) #individual player action space is 5, joint action space is 25\n",
    "\n",
    "#Instantiate Q-Learner\n",
    "# from QLearner import solve_corr_Q\n",
    "# from QLearner import QLearningAgent\n",
    "# CorrQ_agent_P1 = QLearningAgent(state_size=num_states, \n",
    "#                                 action_size=num_individual_actions,\n",
    "#                              value_state_function_learner='max-sum-q',\n",
    "#                                learning_rate=alpha)\n",
    "\n",
    "# CorrQ_agent_P2 = QLearningAgent(state_size=num_states, \n",
    "#                                 action_size=num_individual_actions,\n",
    "#                              value_state_function_learner='max-sum-q',\n",
    "#                                learning_rate=alpha)\n",
    "\n",
    "# Ref state s, action 'S'\n",
    "ref_state = SoccerEnv.encode_state(0, 2, 0, 1, 0)\n",
    "ref_P1_action = int(SoccerEnv.Action.S)\n",
    "ref_P2_action = int(SoccerEnv.Action.Stick)\n",
    "\n",
    "# Q errors for plotting\n",
    "# CorrQ_P1_Q_errors = []\n",
    "\n",
    "for i_episode in range(n_episodes_MAX):\n",
    "    state = env.reset()\n",
    "\n",
    "    P1_Q_ref = CorrQ_agent_P1.Q[ref_state, ref_P1_action, ref_P2_action]\n",
    "\n",
    "    for t in range(steps_MAX):\n",
    "        joint_action = np.random.randint(num_actions)\n",
    "\n",
    "        # Take action A, observe R, S'\n",
    "        state_new, reward, done, info = env.step(joint_action)\n",
    "        \n",
    "        #Update Q\n",
    "        P1_action, P2_action = env.decode_action(joint_action)\n",
    "#         P1_reward, P2_reward = env.decode_reward(state, reward)\n",
    "        \n",
    "        ceq_V_P1, ceq_V_P2 = solve_corr_Q(CorrQ_agent_P1.Q, CorrQ_agent_P2.Q, state)\n",
    "        \n",
    "#         CorrQ_agent_P1.learn(P1_reward, state, state_new, P1_action, P2_action, ceq_V_P1)\n",
    "#         CorrQ_agent_P2.learn(P2_reward, state, state_new, P1_action, P2_action, ceq_V_P2)\n",
    "        CorrQ_agent_P1.learn(reward, state, state_new, P1_action, P2_action, ceq_V_P1)\n",
    "        CorrQ_agent_P2.learn(reward, state, state_new, P1_action, P2_action, ceq_V_P2)\n",
    "\n",
    "        state = state_new\n",
    "\n",
    "        if done:\n",
    "            if verbose:\n",
    "                print(\"Episode finished after {} timesteps\".format(t + 1))\n",
    "            break\n",
    "    \n",
    "    Q_error = np.abs(CorrQ_agent_P1.Q[ref_state, ref_P1_action, ref_P2_action] - P1_Q_ref)\n",
    "    \n",
    "    if i_episode % 50000 == 0:\n",
    "        print('Q_ERR[@iter={}]\\t={}'.format(i_episode, Q_error))\n",
    "    \n",
    "    # calc error at end of episode update\n",
    "    CorrQ_P1_Q_errors.append(Q_error)\n",
    "\n",
    "    np.save('./models/Corr_Q', CorrQ_agent_P1.Q)\n",
    "    env.close()"
   ]
  },
  {
   "cell_type": "markdown",
   "metadata": {},
   "source": [
    "#### 1. Run the experiment\n",
    "\n",
    "1. Collect data necessary to reproduce all the graphs in Figure 3\n",
    "Reproduce graphs.\n",
    "\n",
    "2. Instantiate Environment and Agent\n"
   ]
  },
  {
   "cell_type": "code",
   "execution_count": 12,
   "metadata": {},
   "outputs": [
    {
     "data": {
      "text/plain": [
       "Text(0.5, 0, 'Simulation Iteration (x10^5)')"
      ]
     },
     "execution_count": 12,
     "metadata": {},
     "output_type": "execute_result"
    },
    {
     "data": {
      "image/png": "[encoded data removed]",
      "text/plain": [
       "<Figure size 720x576 with 1 Axes>"
      ]
     },
     "metadata": {
      "needs_background": "light"
     },
     "output_type": "display_data"
    }
   ],
   "source": [
    "import matplotlib.ticker as ticker\n",
    "\n",
    "# plot the scores\n",
    "fig, ax = plt.subplots(1, 1, figsize=(10, 8))\n",
    "plt.title('Corr-Q')\n",
    "\n",
    "plt.plot(np.arange(len(CorrQ_P1_Q_errors)), CorrQ_P1_Q_errors);\n",
    "ax.xaxis.set_major_locator(ticker.LinearLocator(11))\n",
    "\n",
    "labels = range(0, int(n_episodes_MAX / 10**5)+1)\n",
    "ax.set_xticklabels(labels)\n",
    "\n",
    "plt.xlim( (0, n_episodes_MAX) )\n",
    "plt.ylim( (0, 0.5) )\n",
    "plt.ylabel('Q-value Difference')\n",
    "plt.xlabel('Simulation Iteration (x10^5)')\n",
    "# fig.savefig('./figures/Corr_Q.png', dpi=fig.dpi)"
   ]
  },
  {
   "cell_type": "code",
   "execution_count": null,
   "metadata": {},
   "outputs": [],
   "source": []
  }
 ],
 "metadata": {
  "kernelspec": {
   "display_name": "Python 3",
   "language": "python",
   "name": "python3"
  },
  "language_info": {
   "codemirror_mode": {
    "name": "ipython",
    "version": 3
   },
   "file_extension": ".py",
   "mimetype": "text/x-python",
   "name": "python",
   "nbconvert_exporter": "python",
   "pygments_lexer": "ipython3",
   "version": "3.7.4"
  },
  "pycharm": {
   "stem_cell": {
    "cell_type": "raw",
    "metadata": {
     "collapsed": false
    },
    "source": []
   }
  }
 },
 "nbformat": 4,
 "nbformat_minor": 1
}
